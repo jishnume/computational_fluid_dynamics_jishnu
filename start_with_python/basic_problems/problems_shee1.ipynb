{
 "cells": [
  {
   "cell_type": "markdown",
   "id": "1a82f9ac-2136-40f1-ab9a-cfd54bc5cb79",
   "metadata": {},
   "source": [
    "## Agenda\n",
    "This jupyter notebook contains some basic problems related to data types and variables.\n",
    "\n",
    "A few good source to learn about these concepts are listed below:\n",
    "* *python tutorial from freecodecamp* - [link](https://www.youtube.com/watch?v=rfscVS0vtbw&pp=ygUPcHl0aG9uIHR1dG9yaWFs) (see timestamp in the description of the video, 15:06)\n",
    "* *Code with Harry Python tutorial* - [link](https://www.youtube.com/watch?v=ORCuz7s5cCY&list=PLu0W_9lII9agwh1XjRt242xIpHhPT2llg&index=6&pp=iAQB) (variables and datatypes , Day6)\n",
    "* W3school tutorial - [link](https://www.w3schools.com/python/python_variables.asp)"
   ]
  },
  {
   "cell_type": "markdown",
   "id": "c7f0cfbe-5401-480e-b2fe-467c4e0178c9",
   "metadata": {},
   "source": [
    "#### Note:\n",
    "1. comments are written in python after a hash (#)"
   ]
  },
  {
   "cell_type": "markdown",
   "id": "0c7ca6c0-fe87-4c77-84ef-e4db255c5793",
   "metadata": {},
   "source": [
    "### Problem 1\n",
    "Create variables to store your name and age. Print it out the variables and check the type of the variables"
   ]
  },
  {
   "cell_type": "code",
   "execution_count": 8,
   "id": "942aea7a-7e93-4db0-ace9-43cccf01e57b",
   "metadata": {},
   "outputs": [
    {
     "name": "stdout",
     "output_type": "stream",
     "text": [
      "My name is  jishnu\n",
      "My age is  28\n",
      "<class 'int'>\n",
      "<class 'str'>\n"
     ]
    }
   ],
   "source": [
    "age=28    # 'age' is a variable to store the age\n",
    "name='jishnu'   # 'name' is a variable to store the name\n",
    "\n",
    "print('My name is ',name)   # printing out the name\n",
    "print('My age is ',age)     # printing out the age\n",
    "\n",
    "print(type(age))       # printing out the type of the 'age' variable\n",
    "print(type(name))      # printing out the type of the 'name' variable"
   ]
  },
  {
   "cell_type": "markdown",
   "id": "3b1cf4a0-560d-4b3c-9595-ee2cef2a0d3f",
   "metadata": {},
   "source": [
    "* <class 'int'> is an integer variable (a data type)\n",
    "* <class 'str'> is a string variable (a data type)"
   ]
  },
  {
   "cell_type": "markdown",
   "id": "a99c5214-e193-4440-8a99-5ef70a5eaca6",
   "metadata": {},
   "source": [
    "### Problem 2\n",
    "Create two variables to store your height and blood group. Printout the information and also the data types"
   ]
  },
  {
   "cell_type": "code",
   "execution_count": 10,
   "id": "f423c6b9-6cd4-42f6-a87b-9ebfd87d3c0d",
   "metadata": {},
   "outputs": [
    {
     "name": "stdout",
     "output_type": "stream",
     "text": [
      "My height is  160.5\n",
      "My blood group is  A\n",
      "<class 'float'>\n",
      "<class 'str'>\n"
     ]
    }
   ],
   "source": [
    "height=160.5   # 'height' variable that stores the height , unit: cm\n",
    "blood_group='A'   # 'blood_group' variable that stores the blood group of a person\n",
    "\n",
    "print('My height is ',height)   # printing out the height\n",
    "print('My blood group is ',blood_group)    # printing out the blood group\n",
    "\n",
    "# printing out the datatypes\n",
    "print(type(height))\n",
    "print(type(blood_group))"
   ]
  },
  {
   "cell_type": "markdown",
   "id": "89b7cc2e-6235-4b98-bbc5-c775bec33583",
   "metadata": {
    "jupyter": {
     "source_hidden": true
    }
   },
   "source": [
    "* <class 'float'> is the data types to store the floating point (decimal) numbers"
   ]
  },
  {
   "cell_type": "markdown",
   "id": "63503b76-750b-46ba-8dbe-0ac571ee9a08",
   "metadata": {},
   "source": [
    "### Problem 3\n",
    "$\\textcolor{red}{Radha}$ is studying $\\textcolor{red}{mathematics}$ at the $\\textcolor{red}{Don\\ Bosco\\ university}$.\n",
    "\n",
    "The $\\textcolor{red}{red}$ colored/highlighted words are some variables. The goal is now to store them in some variables and print out the statement."
   ]
  },
  {
   "cell_type": "code",
   "execution_count": 12,
   "id": "4caf728d-3645-41eb-b28a-c2cc5babb534",
   "metadata": {},
   "outputs": [
    {
     "name": "stdout",
     "output_type": "stream",
     "text": [
      "<class 'str'>\n",
      "<class 'str'>\n",
      "<class 'str'>\n"
     ]
    }
   ],
   "source": [
    "girl_name='Radha'   # storing the name of the student\n",
    "subject='Mathematics'   # storing the name of the subject\n",
    "university='Don Bosco University'   # storing the name of the university\n",
    "\n",
    "print(type(girl_name))\n",
    "print(type(subject))\n",
    "print(type(university))"
   ]
  },
  {
   "cell_type": "code",
   "execution_count": 14,
   "id": "91aae7bc-65a1-408d-a5d8-ba8b215c43b2",
   "metadata": {},
   "outputs": [
    {
     "name": "stdout",
     "output_type": "stream",
     "text": [
      "Radha is studying Mathematics at the Don Bosco University\n"
     ]
    }
   ],
   "source": [
    "# combining string variables\n",
    "message=girl_name+' is studying '+ subject+' at the '+university\n",
    "print(message)"
   ]
  },
  {
   "cell_type": "markdown",
   "id": "12427987-92bf-4be2-aeea-9c8fac0ff335",
   "metadata": {},
   "source": [
    "### Problem 4\n",
    "Take the statement in problem 3 to write a similar statement about yourself"
   ]
  },
  {
   "cell_type": "code",
   "execution_count": 16,
   "id": "70c81cde-94f3-4c20-bd47-cd2d222a3989",
   "metadata": {},
   "outputs": [
    {
     "name": "stdout",
     "output_type": "stream",
     "text": [
      "Jishnu is studying fluid mechanics at the University of Manchester.\n"
     ]
    }
   ],
   "source": [
    "my_name='Jishnu'\n",
    "my_subject='fluid mechanics'\n",
    "my_university='University of Manchester'\n",
    "\n",
    "my_message=my_name+' is studying '+my_subject+' at the '+ my_university+'.'\n",
    "print(my_message)"
   ]
  },
  {
   "cell_type": "markdown",
   "id": "d387cec4-008b-4772-993c-d4ad51033b1c",
   "metadata": {},
   "source": [
    "### Problem 5\n",
    "(Try it yourself !!)\n",
    "\n",
    "\n",
    "Here is some information about your new batchmate Raghav. Can you modify his story to write about your own.\n",
    "\n",
    "Hint: Replace the $\\textcolor{red}{red}$ colored words, store them as variables and rewrite it by changing the variables\n",
    "\n",
    "------ About Raghav ------\n",
    "$\\textcolor{red}{Raghav}$ is $\\textcolor{red}{28}$ years old. He studies $\\textcolor{red}{Chemistry}$ at the $\\textcolor{red}{Cotton\\ College}$. He is the $\\textcolor{red}{oldest}$ $\\textcolor{red}{son}$ of his family. His home town is $\\textcolor{red}{Tinisukia}$. $\\textcolor{red}{Raghav}$ enjoys playing $\\textcolor{red}{cricket}$ with his friends. He also loves listening to music. $\\textcolor{red}{Zubeen\\ Garg}$ is his favourite singer.\n",
    "\n",
    "Hint: Be mindful that the pronoun might should also be changed based on the gender of the user."
   ]
  }
 ],
 "metadata": {
  "kernelspec": {
   "display_name": "Python 3 (ipykernel)",
   "language": "python",
   "name": "python3"
  },
  "language_info": {
   "codemirror_mode": {
    "name": "ipython",
    "version": 3
   },
   "file_extension": ".py",
   "mimetype": "text/x-python",
   "name": "python",
   "nbconvert_exporter": "python",
   "pygments_lexer": "ipython3",
   "version": "3.12.9"
  }
 },
 "nbformat": 4,
 "nbformat_minor": 5
}

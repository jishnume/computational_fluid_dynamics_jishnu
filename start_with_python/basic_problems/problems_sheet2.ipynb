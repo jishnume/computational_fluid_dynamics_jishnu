{
 "cells": [
  {
   "cell_type": "markdown",
   "id": "bf1ce57a-1f29-472c-bd78-c2c978fd8c54",
   "metadata": {},
   "source": [
    "## Agenda\n",
    "This jupyter notebook details the addition process of numbers in python"
   ]
  },
  {
   "cell_type": "markdown",
   "id": "210e5108-72c1-448b-a8ee-fea66bdba1d5",
   "metadata": {},
   "source": [
    "### Problem 1\n",
    "Write a program to add three numbers. Print out the final result."
   ]
  },
  {
   "cell_type": "code",
   "execution_count": 3,
   "id": "f2afd37a-2837-429e-b6e0-5e292679e0fc",
   "metadata": {},
   "outputs": [
    {
     "name": "stdout",
     "output_type": "stream",
     "text": [
      "Result =  55\n"
     ]
    }
   ],
   "source": [
    "num1=10     # first number\n",
    "num2=15     # second number\n",
    "num3=30     # third number\n",
    "\n",
    "sum_numbers=num1+num2+num3   # adding three numbers\n",
    "print('Result = ',sum_numbers)"
   ]
  },
  {
   "cell_type": "markdown",
   "id": "140aebf8-ccc4-4ccf-8380-af7f5237d47f",
   "metadata": {},
   "source": [
    "Note:\n",
    "* The simple program above adds three numbers.\n",
    "However, the value of the variables are inside the program. This is called **hard-coding** the values.\n",
    "\n",
    "* A neccessary modification in this simple program is to let the user decide the values during the runtime.\n",
    "This will become clear from the next a few programs."
   ]
  },
  {
   "cell_type": "markdown",
   "id": "080b5a17-22e4-4c38-9d51-43f8781d4110",
   "metadata": {},
   "source": [
    "### Problem 2\n",
    "Write a program to ask the user for his/her age.\n",
    "\n",
    "Solution Hint: We will use the *input* method in python to ask the user."
   ]
  },
  {
   "cell_type": "code",
   "execution_count": 6,
   "id": "6ca674f3-79aa-48cd-8985-2149a96ea762",
   "metadata": {},
   "outputs": [
    {
     "name": "stdin",
     "output_type": "stream",
     "text": [
      "Please enter your age :  25\n"
     ]
    },
    {
     "name": "stdout",
     "output_type": "stream",
     "text": [
      "The user is 25 years old\n"
     ]
    }
   ],
   "source": [
    "user_age=input('Please enter your age : ')\n",
    "\n",
    "print_statement='The user is '+user_age+' years old'  # adding three strings (from problem sheet 1)\n",
    "print(print_statement)"
   ]
  },
  {
   "cell_type": "markdown",
   "id": "1f039017-ac6d-4e3d-b16f-46b9e87dbdd3",
   "metadata": {},
   "source": [
    "### Problem 3\n",
    "Write a program which will add two numbers entered by the user.\n",
    "\n",
    "#### concept\n",
    "The *input* method in python returns a string variable. This means if I enter a number such as 20,\n",
    "python will still count it as a string. This can be verified by using the *type()* method in python (refer problems sheet 1)"
   ]
  },
  {
   "cell_type": "code",
   "execution_count": 7,
   "id": "3ae62bd5-7159-436c-94da-1bbe4b29d2af",
   "metadata": {},
   "outputs": [
    {
     "name": "stdin",
     "output_type": "stream",
     "text": [
      "Enter a number =  25\n"
     ]
    },
    {
     "name": "stdout",
     "output_type": "stream",
     "text": [
      "<class 'str'>\n"
     ]
    }
   ],
   "source": [
    "var1=input('Enter a number = ')    # asking user to enter a number\n",
    "print(type(var1))        # checking the type of the variable"
   ]
  },
  {
   "cell_type": "code",
   "execution_count": 12,
   "id": "9d97b6dc-236b-4594-9ce2-80dacb1510ec",
   "metadata": {},
   "outputs": [
    {
     "name": "stdin",
     "output_type": "stream",
     "text": [
      "Enter another number =  30\n"
     ]
    },
    {
     "name": "stdout",
     "output_type": "stream",
     "text": [
      "<class 'str'>\n",
      "First number is =  25\n",
      "Second number is =  30\n"
     ]
    }
   ],
   "source": [
    "var2=input('Enter another number = ')\n",
    "print(type(var2))\n",
    "\n",
    "# printing out the variables\n",
    "print('First number is = ',var1)        # printing out the first number\n",
    "print('Second number is = ',var2)       # printing out the second number\n"
   ]
  },
  {
   "cell_type": "markdown",
   "id": "489ced78-d205-478e-9705-7971f28a2b4f",
   "metadata": {},
   "source": [
    "#### Incorrect way of adding numbers"
   ]
  },
  {
   "cell_type": "code",
   "execution_count": 14,
   "id": "1b0b541e-c4da-4f81-b2ab-79c2e429c458",
   "metadata": {},
   "outputs": [
    {
     "name": "stdout",
     "output_type": "stream",
     "text": [
      "Result =  2530\n"
     ]
    }
   ],
   "source": [
    "# adding these two numbers (incorrect way !!)\n",
    "sum_var1_var2=var1+var2\n",
    "print('Result = ',sum_var1_var2)"
   ]
  },
  {
   "cell_type": "markdown",
   "id": "8be4af1f-5cf4-4267-8634-caf96dc3d044",
   "metadata": {},
   "source": [
    "You should see something strange here. Adding two numbers 25 and 30 should be 55. You can check for other values too.\n",
    "However, in this case, we are seeing 2530 as the result.\n",
    "\n",
    "This is because both *var 1* and *var 2* are string variables (although you are storing two numbers here). To do the addition,\n",
    "you will need to convert these string variables to float/int variables. This is called *type casting*. (a source to learn more about this - [link](https://www.geeksforgeeks.org/python/type-casting-in-python/))"
   ]
  },
  {
   "cell_type": "markdown",
   "id": "17846374-6102-4935-9f95-055d231ae808",
   "metadata": {},
   "source": [
    "#### correct way of adding the numbers"
   ]
  },
  {
   "cell_type": "code",
   "execution_count": 16,
   "id": "9669dbc2-58ab-4016-93db-575409c5bdd5",
   "metadata": {},
   "outputs": [
    {
     "name": "stdin",
     "output_type": "stream",
     "text": [
      "Enter the first number =  10\n",
      "Enter the second number =  35\n"
     ]
    },
    {
     "name": "stdout",
     "output_type": "stream",
     "text": [
      "The first number is =  10\n",
      "The second number is =  35\n",
      "Result =  45\n"
     ]
    }
   ],
   "source": [
    "# adding these two numbers (correct way !!)\n",
    "num1=input('Enter the first number = ')\n",
    "num2=input('Enter the second number = ')\n",
    "\n",
    "# type casting\n",
    "num1_t=int(num1)     # converting the string variable to integer\n",
    "num2_t=int(num2)     # converting the string variable to integer\n",
    "\n",
    "# printing out the numbers\n",
    "print('The first number is = ',num1_t)\n",
    "print('The second number is = ',num2_t)\n",
    "\n",
    "# adding the number\n",
    "sum_num1_num2=num1_t+num2_t\n",
    "\n",
    "# printing out the result of the sum\n",
    "print('Result = ',sum_num1_num2)"
   ]
  },
  {
   "cell_type": "markdown",
   "id": "792543fd-00a3-4f85-ad73-bd64a1be3c49",
   "metadata": {},
   "source": [
    "### Problem 4\n",
    "(Try on your own)\n",
    "\n",
    "The marks of a student in his annual exam are as follows -\n",
    "\n",
    "| Subject | Marks |\n",
    "|---|---|\n",
    "| Mathematics | 90.5 |\n",
    "| Science | 97 |\n",
    "|Social science | 88.5 |\n",
    "| Assamese | 80 |\n",
    "| English | 82 |\n",
    "\n",
    "Total marks of the each of these exams are 100. what is the total marks scored by the student?\n",
    "\n",
    "solution hint: You will need to consider float variables while adding the numbers."
   ]
  }
 ],
 "metadata": {
  "kernelspec": {
   "display_name": "Python 3 (ipykernel)",
   "language": "python",
   "name": "python3"
  },
  "language_info": {
   "codemirror_mode": {
    "name": "ipython",
    "version": 3
   },
   "file_extension": ".py",
   "mimetype": "text/x-python",
   "name": "python",
   "nbconvert_exporter": "python",
   "pygments_lexer": "ipython3",
   "version": "3.12.9"
  }
 },
 "nbformat": 4,
 "nbformat_minor": 5
}
